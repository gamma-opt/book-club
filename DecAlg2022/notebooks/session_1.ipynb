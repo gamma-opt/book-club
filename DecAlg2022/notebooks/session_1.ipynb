{
 "cells": [
  {
   "cell_type": "code",
   "execution_count": 38,
   "metadata": {
    "vscode": {
     "languageId": "julia"
    }
   },
   "outputs": [
    {
     "data": {
      "text/plain": [
       "probability (generic function with 1 method)"
      ]
     },
     "metadata": {},
     "output_type": "display_data"
    }
   ],
   "source": [
    "include(\"dm.jl\")"
   ]
  },
  {
   "cell_type": "markdown",
   "metadata": {},
   "source": [
    "# Factor example"
   ]
  },
  {
   "cell_type": "code",
   "execution_count": 39,
   "metadata": {
    "vscode": {
     "languageId": "julia"
    }
   },
   "outputs": [],
   "source": [
    "X = Variable(:x, 2)\n",
    "Y = Variable(:y, 2)\n",
    "Z = Variable(:z, 2)\n",
    "φ = Factor([X, Y, Z], FactorTable(\n",
    "    (x=1, y=1, z=1) => 0.08, (x=1, y=1, z=2) => 0.31,\n",
    "    (x=1, y=2, z=1) => 0.09, (x=1, y=2, z=2) => 0.37,\n",
    "    (x=2, y=1, z=1) => 0.01, (x=2, y=1, z=2) => 0.05,\n",
    "    (x=2, y=2, z=1) => 0.02, (x=2, y=2, z=2) => 0.07,\n",
    "));"
   ]
  },
  {
   "cell_type": "code",
   "execution_count": 40,
   "metadata": {
    "vscode": {
     "languageId": "julia"
    }
   },
   "outputs": [
    {
     "data": {
      "text/plain": [
       "print_factor (generic function with 1 method)"
      ]
     },
     "metadata": {},
     "output_type": "display_data"
    }
   ],
   "source": [
    "function print_factor(φ::Factor)\n",
    "    for (a,p) in φ.table\n",
    "        println(a, \" with probability \", p)\n",
    "    end \n",
    "end   "
   ]
  },
  {
   "cell_type": "code",
   "execution_count": 46,
   "metadata": {
    "vscode": {
     "languageId": "julia"
    }
   },
   "outputs": [
    {
     "data": {
      "text/plain": [
       "3-element Vector{Symbol}:\n",
       " :x\n",
       " :y\n",
       " :z"
      ]
     },
     "metadata": {},
     "output_type": "display_data"
    }
   ],
   "source": [
    "names = variablenames(φ)"
   ]
  },
  {
   "cell_type": "code",
   "execution_count": 47,
   "metadata": {
    "vscode": {
     "languageId": "julia"
    }
   },
   "outputs": [
    {
     "data": {
      "text/plain": [
       "Dict{Symbol, Int64} with 3 entries:\n",
       "  :y => 2\n",
       "  :z => 1\n",
       "  :x => 1"
      ]
     },
     "metadata": {},
     "output_type": "display_data"
    }
   ],
   "source": [
    "a = Assignment((x=1,y=2,z=1))"
   ]
  },
  {
   "cell_type": "code",
   "execution_count": 48,
   "metadata": {
    "vscode": {
     "languageId": "julia"
    }
   },
   "outputs": [
    {
     "data": {
      "text/plain": [
       "0.09"
      ]
     },
     "metadata": {},
     "output_type": "display_data"
    }
   ],
   "source": [
    "φ.table[a]"
   ]
  },
  {
   "cell_type": "code",
   "execution_count": 53,
   "metadata": {
    "vscode": {
     "languageId": "julia"
    }
   },
   "outputs": [
    {
     "data": {
      "text/plain": [
       "Dict{Symbol, Int64} with 1 entry:\n",
       "  :z => 1"
      ]
     },
     "metadata": {},
     "output_type": "display_data"
    }
   ],
   "source": [
    "select(a,[:z])"
   ]
  },
  {
   "cell_type": "markdown",
   "metadata": {},
   "source": [
    "# Example 2.5: satellite-monitoring problem"
   ]
  },
  {
   "cell_type": "code",
   "execution_count": 44,
   "metadata": {
    "vscode": {
     "languageId": "julia"
    }
   },
   "outputs": [
    {
     "name": "stdout",
     "output_type": "stream",
     "text": [
      "Dict(:b => 1) with probability 0.99\n",
      "Dict(:b => 2) with probability 0.01\n",
      "Dict(:s => 2) with probability 0.02\n",
      "Dict(:s => 1) with probability 0.98\n",
      "Dict(:b => 1, :s => 1, :e => 1) with probability 0.9\n",
      "Dict(:b => 1, :s => 1, :e => 2) with probability 0.1\n",
      "Dict(:b => 2, :s => 2, :e => 2) with probability 0.99\n",
      "Dict(:b => 1, :s => 2, :e => 2) with probability 0.96\n",
      "Dict(:b => 2, :s => 2, :e => 1) with probability 0.01\n",
      "Dict(:b => 1, :s => 2, :e => 1) with probability 0.04\n",
      "Dict(:b => 2, :s => 1, :e => 1) with probability 0.05\n",
      "Dict(:b => 2, :s => 1, :e => 2) with probability 0.95\n",
      "Dict(:d => 2, :e => 1) with probability 0.04\n",
      "Dict(:d => 2, :e => 2) with probability 0.97\n",
      "Dict(:d => 1, :e => 2) with probability 0.03\n",
      "Dict(:d => 1, :e => 1) with probability 0.96\n",
      "Dict(:e => 2, :c => 1) with probability 0.01\n",
      "Dict(:e => 1, :c => 1) with probability 0.98\n",
      "Dict(:e => 1, :c => 2) with probability 0.02\n",
      "Dict(:e => 2, :c => 2) with probability 0.99\n"
     ]
    }
   ],
   "source": [
    "B = Variable(:b, 2); S = Variable(:s, 2)\n",
    "E = Variable(:e, 2)\n",
    "D = Variable(:d, 2); C = Variable(:c, 2)\n",
    "\n",
    "vars = [B, S, E, D, C]\n",
    "\n",
    "factors = [\n",
    "    Factor([B], FactorTable((b=1,) => 0.99, (b=2,) => 0.01)),\n",
    "    Factor([S], FactorTable((s=1,) => 0.98, (s=2,) => 0.02)),\n",
    "    Factor([E,B,S], FactorTable(\n",
    "        (e=1,b=1,s=1) => 0.90, (e=1,b=1,s=2) => 0.04,\n",
    "        (e=1,b=2,s=1) => 0.05, (e=1,b=2,s=2) => 0.01,\n",
    "        (e=2,b=1,s=1) => 0.10, (e=2,b=1,s=2) => 0.96,\n",
    "        (e=2,b=2,s=1) => 0.95, (e=2,b=2,s=2) => 0.99)),\n",
    "    Factor([D, E], FactorTable(\n",
    "        (d=1,e=1) => 0.96, (d=1,e=2) => 0.03,\n",
    "        (d=2,e=1) => 0.04, (d=2,e=2) => 0.97)),\n",
    "    Factor([C, E], FactorTable(\n",
    "        (c=1,e=1) => 0.98, (c=1,e=2) => 0.01,\n",
    "        (c=2,e=1) => 0.02, (c=2,e=2) => 0.99))\n",
    "]\n",
    "\n",
    "graph = SimpleDiGraph(5)\n",
    "add_edge!(graph, 1, 3); add_edge!(graph, 2, 3)\n",
    "add_edge!(graph, 3, 4); add_edge!(graph, 3, 5)\n",
    "\n",
    "bn = BayesianNetwork(vars, factors, graph)\n",
    "\n",
    "for factor in bn.factors\n",
    "    print_factor(factor)\n",
    "end"
   ]
  },
  {
   "cell_type": "code",
   "execution_count": 59,
   "metadata": {
    "vscode": {
     "languageId": "julia"
    }
   },
   "outputs": [
    {
     "data": {
      "text/plain": [
       "0.0001901394"
      ]
     },
     "metadata": {},
     "output_type": "display_data"
    }
   ],
   "source": [
    "a = Assignment((b=2, s=2, e=2, d=2,c=2)) # 2 = fail\n",
    "probability(bn, a)\n"
   ]
  }
 ],
 "metadata": {
  "language_info": {
   "name": "python"
  },
  "orig_nbformat": 4
 },
 "nbformat": 4,
 "nbformat_minor": 2
}
