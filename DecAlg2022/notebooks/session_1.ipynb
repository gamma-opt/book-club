{
 "cells": [
  {
   "cell_type": "code",
   "execution_count": 75,
   "metadata": {},
   "outputs": [
    {
     "data": {
      "text/plain": [
       "infer (generic function with 6 methods)"
      ]
     },
     "metadata": {},
     "output_type": "display_data"
    }
   ],
   "source": [
    "include(\"dm.jl\")"
   ]
  },
  {
   "cell_type": "markdown",
   "metadata": {},
   "source": [
    "# Factor example"
   ]
  },
  {
   "cell_type": "code",
   "execution_count": 76,
   "metadata": {},
   "outputs": [],
   "source": [
    "X = Variable(:x, 2)\n",
    "Y = Variable(:y, 2)\n",
    "Z = Variable(:z, 2)\n",
    "φ = Factor([X, Y, Z], FactorTable(\n",
    "    (x=1, y=1, z=1) => 0.08, (x=1, y=1, z=2) => 0.31,\n",
    "    (x=1, y=2, z=1) => 0.09, (x=1, y=2, z=2) => 0.37,\n",
    "    (x=2, y=1, z=1) => 0.01, (x=2, y=1, z=2) => 0.05,\n",
    "    (x=2, y=2, z=1) => 0.02, (x=2, y=2, z=2) => 0.07,\n",
    "));"
   ]
  },
  {
   "cell_type": "code",
   "execution_count": 77,
   "metadata": {},
   "outputs": [
    {
     "name": "stdout",
     "output_type": "stream",
     "text": [
      "Dict(:y => 2, :z => 2, :x => 1) with probability 0.37\n",
      "Dict(:y => 1, :z => 2, :x => 1) with probability 0.31\n",
      "Dict(:y => 2, :z => 1, :x => 2) with probability 0.02\n",
      "Dict(:y => 1, :z => 1, :x => 1) with probability 0.08\n",
      "Dict(:y => 1, :z => 2, :x => 2) with probability 0.05\n",
      "Dict(:y => 2, :z => 2, :x => 2) with probability 0.07\n",
      "Dict(:y => 2, :z => 1, :x => 1) with probability 0.09\n",
      "Dict(:y => 1, :z => 1, :x => 2) with probability 0.01\n"
     ]
    }
   ],
   "source": [
    "function print_factor(φ::Factor)\n",
    "    for (a,p) in φ.table\n",
    "        println(a, \" with probability \", p)\n",
    "    end \n",
    "end  \n",
    "\n",
    "print_factor(φ)"
   ]
  },
  {
   "cell_type": "code",
   "execution_count": 78,
   "metadata": {},
   "outputs": [
    {
     "data": {
      "text/plain": [
       "3-element Vector{Symbol}:\n",
       " :x\n",
       " :y\n",
       " :z"
      ]
     },
     "metadata": {},
     "output_type": "display_data"
    }
   ],
   "source": [
    "names = variablenames(φ)"
   ]
  },
  {
   "cell_type": "code",
   "execution_count": 79,
   "metadata": {},
   "outputs": [
    {
     "data": {
      "text/plain": [
       "Dict{Symbol, Int64} with 3 entries:\n",
       "  :y => 2\n",
       "  :z => 1\n",
       "  :x => 1"
      ]
     },
     "metadata": {},
     "output_type": "display_data"
    }
   ],
   "source": [
    "a = Assignment((x=1,y=2,z=1))"
   ]
  },
  {
   "cell_type": "code",
   "execution_count": 80,
   "metadata": {},
   "outputs": [
    {
     "data": {
      "text/plain": [
       "0.09"
      ]
     },
     "metadata": {},
     "output_type": "display_data"
    }
   ],
   "source": [
    "φ.table[a]"
   ]
  },
  {
   "cell_type": "code",
   "execution_count": 81,
   "metadata": {},
   "outputs": [
    {
     "data": {
      "text/plain": [
       "Dict{Symbol, Int64} with 1 entry:\n",
       "  :z => 1"
      ]
     },
     "metadata": {},
     "output_type": "display_data"
    }
   ],
   "source": [
    "select(a,[:z])"
   ]
  },
  {
   "cell_type": "markdown",
   "metadata": {},
   "source": [
    "# Example 2.5: satellite-monitoring problem"
   ]
  },
  {
   "cell_type": "code",
   "execution_count": 82,
   "metadata": {},
   "outputs": [
    {
     "name": "stdout",
     "output_type": "stream",
     "text": [
      "Dict(:b => 1) with probability 0.99\n",
      "Dict(:b => 2) with probability 0.01\n",
      "Dict(:s => 2) with probability 0.02\n",
      "Dict(:s => 1) with probability 0.98\n",
      "Dict(:b => 1, :s => 1, :e => 1) with probability 0.9\n",
      "Dict(:b => 1, :s => 1, :e => 2) with probability 0.1\n",
      "Dict(:b => 2, :s => 2, :e => 2) with probability 0.99\n",
      "Dict(:b => 1, :s => 2, :e => 2) with probability 0.96\n",
      "Dict(:b => 2, :s => 2, :e => 1) with probability 0.01\n",
      "Dict(:b => 1, :s => 2, :e => 1) with probability 0.04\n",
      "Dict(:b => 2, :s => 1, :e => 1) with probability 0.05\n",
      "Dict(:b => 2, :s => 1, :e => 2) with probability 0.95\n",
      "Dict(:d => 2, :e => 1) with probability 0.04\n",
      "Dict(:d => 2, :e => 2) with probability 0.97\n",
      "Dict(:d => 1, :e => 2) with probability 0.03\n",
      "Dict(:d => 1, :e => 1) with probability 0.96\n",
      "Dict(:e => 2, :c => 1) with probability 0.01\n",
      "Dict(:e => 1, :c => 1) with probability 0.98\n",
      "Dict(:e => 1, :c => 2) with probability 0.02\n",
      "Dict(:e => 2, :c => 2) with probability 0.99\n"
     ]
    }
   ],
   "source": [
    "B = Variable(:b, 2); S = Variable(:s, 2)\n",
    "E = Variable(:e, 2)\n",
    "D = Variable(:d, 2); C = Variable(:c, 2)\n",
    "\n",
    "vars = [B, S, E, D, C]\n",
    "\n",
    "factors = [\n",
    "    Factor([B], FactorTable((b=1,) => 0.99, (b=2,) => 0.01)),\n",
    "    Factor([S], FactorTable((s=1,) => 0.98, (s=2,) => 0.02)),\n",
    "    Factor([E,B,S], FactorTable(\n",
    "        (e=1,b=1,s=1) => 0.90, (e=1,b=1,s=2) => 0.04,\n",
    "        (e=1,b=2,s=1) => 0.05, (e=1,b=2,s=2) => 0.01,\n",
    "        (e=2,b=1,s=1) => 0.10, (e=2,b=1,s=2) => 0.96,\n",
    "        (e=2,b=2,s=1) => 0.95, (e=2,b=2,s=2) => 0.99)),\n",
    "    Factor([D, E], FactorTable(\n",
    "        (d=1,e=1) => 0.96, (d=1,e=2) => 0.03,\n",
    "        (d=2,e=1) => 0.04, (d=2,e=2) => 0.97)),\n",
    "    Factor([C, E], FactorTable(\n",
    "        (c=1,e=1) => 0.98, (c=1,e=2) => 0.01,\n",
    "        (c=2,e=1) => 0.02, (c=2,e=2) => 0.99))\n",
    "]\n",
    "\n",
    "graph = SimpleDiGraph(5)\n",
    "add_edge!(graph, 1, 3); add_edge!(graph, 2, 3)\n",
    "add_edge!(graph, 3, 4); add_edge!(graph, 3, 5)\n",
    "\n",
    "bn = BayesianNetwork(vars, factors, graph)\n",
    "\n",
    "for factor in bn.factors\n",
    "    print_factor(factor)\n",
    "end"
   ]
  },
  {
   "cell_type": "code",
   "execution_count": 83,
   "metadata": {},
   "outputs": [
    {
     "data": {
      "text/plain": [
       "0.8214877439999999"
      ]
     },
     "metadata": {},
     "output_type": "display_data"
    }
   ],
   "source": [
    "# Testing the calculation of assignment probabilities\n",
    "a = Assignment((b=1, s=1, e=1, d=1,c=1)) # 2 = fail\n",
    "probability(bn, a)\n"
   ]
  },
  {
   "cell_type": "code",
   "execution_count": 98,
   "metadata": {},
   "outputs": [
    {
     "data": {
      "text/plain": [
       "Dict{Dict{Symbol, Int64}, Float64} with 8 entries:\n",
       "  Dict(:b=>1, :s=>1, :e=>1) => 0.891\n",
       "  Dict(:b=>1, :s=>1, :e=>2) => 0.099\n",
       "  Dict(:b=>2, :s=>2, :e=>2) => 0.0099\n",
       "  Dict(:b=>1, :s=>2, :e=>2) => 0.9504\n",
       "  Dict(:b=>2, :s=>2, :e=>1) => 0.0001\n",
       "  Dict(:b=>1, :s=>2, :e=>1) => 0.0396\n",
       "  Dict(:b=>2, :s=>1, :e=>1) => 0.0005\n",
       "  Dict(:b=>2, :s=>1, :e=>2) => 0.0095"
      ]
     },
     "metadata": {},
     "output_type": "display_data"
    }
   ],
   "source": [
    "# Testing factor product\n",
    "a = factors[1]\n",
    "b = factors[3]\n",
    "c = a*b\n",
    "c.table"
   ]
  },
  {
   "cell_type": "code",
   "execution_count": 85,
   "metadata": {},
   "outputs": [
    {
     "data": {
      "text/plain": [
       "Dict{Dict{Symbol, Int64}, Float64} with 4 entries:\n",
       "  Dict(:s=>2, :e=>1) => 0.0125\n",
       "  Dict(:s=>2, :e=>2) => 0.4875\n",
       "  Dict(:s=>1, :e=>1) => 0.2375\n",
       "  Dict(:s=>1, :e=>2) => 0.2625"
      ]
     },
     "metadata": {},
     "output_type": "display_data"
    }
   ],
   "source": [
    "# Testing marginalise\n",
    "m = normalize!(marginalize(factors[3], :b))\n",
    "m.table"
   ]
  },
  {
   "cell_type": "code",
   "execution_count": 86,
   "metadata": {},
   "outputs": [
    {
     "data": {
      "text/plain": [
       "5-element Vector{Int64}:\n",
       " 2\n",
       " 1\n",
       " 3\n",
       " 5\n",
       " 4"
      ]
     },
     "metadata": {},
     "output_type": "display_data"
    }
   ],
   "source": [
    "topological_sort_by_dfs(bn.graph) # This is the correct function, not topological_sort()"
   ]
  },
  {
   "cell_type": "code",
   "execution_count": 87,
   "metadata": {},
   "outputs": [
    {
     "name": "stdout",
     "output_type": "stream",
     "text": [
      "Dict(:b => 1, :d => 2, :s => 2, :e => 2, :c => 2)\n",
      "Dict(:b => 1, :d => 1, :s => 1, :e => 1, :c => 1)\n",
      "Dict(:b => 1, :d => 1, :s => 1, :e => 1, :c => 1)\n",
      "Dict(:b => 1, :d => 1, :s => 1, :e => 1, :c => 1)\n",
      "Dict(:b => 1, :d => 2, :s => 1, :e => 2, :c => 2)\n",
      "Dict(:b => 1, :d => 1, :s => 1, :e => 1, :c => 1)\n",
      "Dict(:b => 1, :d => 1, :s => 1, :e => 1, :c => 1)\n",
      "Dict(:b => 1, :d => 1, :s => 1, :e => 1, :c => 1)\n",
      "Dict(:b => 1, :d => 1, :s => 1, :e => 1, :c => 1)\n",
      "Dict(:b => 1, :d => 1, :s => 1, :e => 1, :c => 1)\n"
     ]
    }
   ],
   "source": [
    "# Random sampling from a bn.\n",
    "for i in 1:10\n",
    "    println(rand(bn))\n",
    "end"
   ]
  },
  {
   "cell_type": "code",
   "execution_count": 88,
   "metadata": {},
   "outputs": [
    {
     "data": {
      "text/plain": [
       "Factor(Variable[Variable(:d, 2), Variable(:e, 2)], Dict(Dict(:d => 2, :e => 1) => 0.02, Dict(:d => 2, :e => 2) => 0.485, Dict(:d => 1, :e => 2) => 0.015, Dict(:d => 1, :e => 1) => 0.48))"
      ]
     },
     "metadata": {},
     "output_type": "display_data"
    }
   ],
   "source": [
    "# Calculating the conditional prob. of a variable, given an assignment. \n",
    "evidence = (s=2, b=2, d=1) # A bit silly, but evidence must contain the variable of interest.ß\n",
    "a = Assignment(evidence)\n",
    "b = blanket(bn, a, 4) "
   ]
  },
  {
   "cell_type": "code",
   "execution_count": 89,
   "metadata": {},
   "outputs": [
    {
     "name": "stdout",
     "output_type": "stream",
     "text": [
      "  0.411456 seconds (627.79 k allocations: 32.498 MiB, 3.53% gc time, 99.64% compilation time)\n"
     ]
    },
    {
     "data": {
      "text/plain": [
       "Factor(Variable[Variable(:e, 2)], Dict(Dict(:e => 2) => 0.95, Dict(:e => 1) => 0.05))"
      ]
     },
     "metadata": {},
     "output_type": "display_data"
    }
   ],
   "source": [
    "method = VariableElimination([1,2,3,4,5])\n",
    "@time infer(method, bn, [:e], (b=2, s=1) ) #evidence is given as a named tuple"
   ]
  },
  {
   "cell_type": "code",
   "execution_count": 90,
   "metadata": {},
   "outputs": [
    {
     "name": "stdout",
     "output_type": "stream",
     "text": [
      "  0.079411 seconds (211.50 k allocations: 16.011 MiB, 93.23% compilation time)\n"
     ]
    },
    {
     "data": {
      "text/plain": [
       "Factor(Variable[Variable(:e, 2)], Dict(Dict(:e => 2) => 1.0))"
      ]
     },
     "metadata": {},
     "output_type": "display_data"
    }
   ],
   "source": [
    "method = DirectSampling(1000)\n",
    "@time infer(method, bn, [:e], (b=2, s=1) )"
   ]
  },
  {
   "cell_type": "code",
   "execution_count": 91,
   "metadata": {},
   "outputs": [
    {
     "name": "stdout",
     "output_type": "stream",
     "text": [
      "  0.079798 seconds (125.72 k allocations: 11.868 MiB, 92.61% compilation time)\n"
     ]
    },
    {
     "data": {
      "text/plain": [
       "Factor(Variable[Variable(:e, 2)], Dict(Dict(:e => 2) => 0.9330000000000007, Dict(:e => 1) => 0.06699999999999932))"
      ]
     },
     "metadata": {},
     "output_type": "display_data"
    }
   ],
   "source": [
    "method = LikelihoodWeightedSampling(1000)\n",
    "@time infer(method, bn, [:e], (b=2, s=1) )"
   ]
  },
  {
   "cell_type": "code",
   "execution_count": 92,
   "metadata": {},
   "outputs": [
    {
     "name": "stdout",
     "output_type": "stream",
     "text": [
      "Dict(:b => 2, :d => 1, :s => 1, :e => 1, :c => 1)\n",
      "  0.320539 seconds (2.23 M allocations: 230.129 MiB, 10.45% gc time, 29.83% compilation time)\n"
     ]
    },
    {
     "data": {
      "text/plain": [
       "Factor(Variable[Variable(:e, 2)], Dict(Dict(:e => 2) => 0.936, Dict(:e => 1) => 0.064))"
      ]
     },
     "metadata": {},
     "output_type": "display_data"
    }
   ],
   "source": [
    "method = GibbsSampling(1000, 5, 10, [1,2,3,4,5])\n",
    "@time infer(method, bn, [:e], (b=2, s=1) )"
   ]
  },
  {
   "cell_type": "code",
   "execution_count": 93,
   "metadata": {},
   "outputs": [
    {
     "data": {
      "text/plain": [
       "FullNormal(\n",
       "dim: 1\n",
       "μ: [0.5]\n",
       "Σ: [2.5;;]\n",
       ")\n"
      ]
     },
     "metadata": {},
     "output_type": "display_data"
    }
   ],
   "source": [
    "D = MvNormal([0.0,1.0],[3.0 1.0; 1.0 2.0])\n",
    "infer(D, [1], [2], [2.0])"
   ]
  }
 ],
 "metadata": {
  "kernelspec": {
   "display_name": "Julia 1.7.0",
   "language": "julia",
   "name": "julia-1.7"
  },
  "language_info": {
   "file_extension": ".jl",
   "mimetype": "application/julia",
   "name": "julia",
   "version": "1.7.0"
  },
  "orig_nbformat": 4
 },
 "nbformat": 4,
 "nbformat_minor": 2
}
